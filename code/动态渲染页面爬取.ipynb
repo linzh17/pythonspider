{
 "cells": [
  {
   "cell_type": "markdown",
   "metadata": {},
   "source": [
    "# 动态页面爬取\n"
   ]
  },
  {
   "cell_type": "markdown",
   "metadata": {},
   "source": [
    "## Selenium 的使用\n",
    "> selenium 自动化测试工具,可以模拟浏览器运行的方式实现动态信息的爬取\n"
   ]
  },
  {
   "cell_type": "code",
   "execution_count": null,
   "metadata": {},
   "outputs": [],
   "source": [
    "# 基本使用 \n",
    "from selenium import webdriver \n",
    "from selenium.webdriver.common.by import By\n",
    "from selenium.webdriver.common.keys import Keys \n",
    "from selenium.webdriver.support import expected_conditions as EC\n",
    "from selenium.webdriver.support.wait import WebDriverWait \n",
    "\n",
    "browser = webdriver.Chrome()\n",
    "try:\n",
    "    browser.get('https://www.baidu.com')\n",
    "    input = browser.find_element_by_id('kw')\n",
    "    input.send_keys('python')\n",
    "    input.send_keys(Keys.ENTER)\n",
    "    wait = WebDriverWait(browser,10)\n",
    "    wait.until(EC.presence_of_element_located((By.ID,'content_left')))\n",
    "    print(browser.current_url)\n",
    "    print(browser.get_cookies())\n",
    "    print(browser.page_source)\n",
    "finally:\n",
    "    browser.close()\n",
    "    "
   ]
  },
  {
   "cell_type": "markdown",
   "metadata": {},
   "source": [
    "### 初始化 \n",
    "> selenium 支持多种浏览器,只需要下载相应的driver\n"
   ]
  },
  {
   "cell_type": "code",
   "execution_count": null,
   "metadata": {},
   "outputs": [],
   "source": [
    "#初始化 \n",
    "\n",
    "from selenium import webdriver \n",
    "\n",
    "browser = webdriver.Chrome()\n",
    "browser = webdriver.Firefox()\n",
    "browser = webdriver.Edge()\n",
    "browser = webdriver.Safari()\n",
    "\n"
   ]
  },
  {
   "cell_type": "markdown",
   "metadata": {},
   "source": [
    "### 访问页面\n",
    "> 可以用get()请求网页,参数传入url"
   ]
  },
  {
   "cell_type": "code",
   "execution_count": null,
   "metadata": {},
   "outputs": [],
   "source": [
    "# example of get()\n",
    "\n",
    "from selenium import webdriver\n",
    "\n",
    "browser = webdriver.Chrome()\n",
    "browser.get('https://www.jd.com/2017')\n",
    "print(browser.page_source)\n",
    "browser.close()"
   ]
  },
  {
   "cell_type": "markdown",
   "metadata": {},
   "source": [
    "###  查找节点"
   ]
  },
  {
   "cell_type": "markdown",
   "metadata": {},
   "source": [
    "#### 单个节点"
   ]
  },
  {
   "cell_type": "markdown",
   "metadata": {},
   "source": [
    "> 获取网站的搜索框,首先要观察源代码中搜索框的代码  \n",
    "> 可以通过id name 等多种属性获取节点  \n",
    "* find_element_by_id\n",
    "* find_element_by_name\n",
    "* find_element_by_xpath\n",
    "* find_element_by_link_text\n",
    "* find_element_by_partial_link_text\n",
    "* find_element_by_tag_name\n",
    "* find_element_by_class_name\n",
    "* find_element_by_css_selector"
   ]
  },
  {
   "cell_type": "code",
   "execution_count": null,
   "metadata": {},
   "outputs": [],
   "source": [
    "#\n",
    "from selenium import webdriver\n",
    "\n",
    "browser = webdriver.Chrome()\n",
    "browser.get('https://www.jd.com/2017')\n",
    "#id查找节点\n",
    "input_first = browser.find_element_by_id('key')\n",
    "#css选择器查找节点\n",
    "input_second = browser.find_element_by_css_selector('#key')\n",
    "#xpath 查找节点\n",
    "input_third = browser.find_element_by_xpath('//*[@id=\"key\"]')\n",
    "print(input_first,input_second,input_third)"
   ]
  },
  {
   "cell_type": "markdown",
   "metadata": {},
   "source": [
    ">selenium 查找单个节点的通用方法 find_element(),需要两个参数,查找方式By和值"
   ]
  },
  {
   "cell_type": "code",
   "execution_count": null,
   "metadata": {},
   "outputs": [],
   "source": [
    "from selenium import webdriver\n",
    "from selenium.webdriver.common.by import By\n",
    "\n",
    "browser = webdriver.Chrome()\n",
    "browser.get('https://www.jd.com/2017')\n",
    "input_first = browser.find_element(By.ID,'key')\n",
    "print(input_first)\n",
    "browser.close()"
   ]
  },
  {
   "cell_type": "markdown",
   "metadata": {},
   "source": [
    "### 查找多个节点\n",
    "> find_elements() \n",
    "* find_elements_by_id\n",
    "* find_elements_by_name\n",
    "* find_elements_by_xpath\n",
    "* find_elements_by_link_text\n",
    "* find_elements_by_partial_link_text\n",
    "* find_elements_by_tag_name\n",
    "* find_elements_by_class_name\n",
    "* find_elements_by_css_selector"
   ]
  },
  {
   "cell_type": "code",
   "execution_count": 2,
   "metadata": {},
   "outputs": [
    {
     "name": "stdout",
     "output_type": "stream",
     "text": [
      "[<selenium.webdriver.remote.webelement.WebElement (session=\"7d3b5479e018cc189f87ecbcd080fef6\", element=\"0.08685525803996952-1\")>, <selenium.webdriver.remote.webelement.WebElement (session=\"7d3b5479e018cc189f87ecbcd080fef6\", element=\"0.08685525803996952-2\")>, <selenium.webdriver.remote.webelement.WebElement (session=\"7d3b5479e018cc189f87ecbcd080fef6\", element=\"0.08685525803996952-3\")>, <selenium.webdriver.remote.webelement.WebElement (session=\"7d3b5479e018cc189f87ecbcd080fef6\", element=\"0.08685525803996952-4\")>, <selenium.webdriver.remote.webelement.WebElement (session=\"7d3b5479e018cc189f87ecbcd080fef6\", element=\"0.08685525803996952-5\")>, <selenium.webdriver.remote.webelement.WebElement (session=\"7d3b5479e018cc189f87ecbcd080fef6\", element=\"0.08685525803996952-6\")>, <selenium.webdriver.remote.webelement.WebElement (session=\"7d3b5479e018cc189f87ecbcd080fef6\", element=\"0.08685525803996952-7\")>, <selenium.webdriver.remote.webelement.WebElement (session=\"7d3b5479e018cc189f87ecbcd080fef6\", element=\"0.08685525803996952-8\")>, <selenium.webdriver.remote.webelement.WebElement (session=\"7d3b5479e018cc189f87ecbcd080fef6\", element=\"0.08685525803996952-9\")>, <selenium.webdriver.remote.webelement.WebElement (session=\"7d3b5479e018cc189f87ecbcd080fef6\", element=\"0.08685525803996952-10\")>, <selenium.webdriver.remote.webelement.WebElement (session=\"7d3b5479e018cc189f87ecbcd080fef6\", element=\"0.08685525803996952-11\")>, <selenium.webdriver.remote.webelement.WebElement (session=\"7d3b5479e018cc189f87ecbcd080fef6\", element=\"0.08685525803996952-12\")>, <selenium.webdriver.remote.webelement.WebElement (session=\"7d3b5479e018cc189f87ecbcd080fef6\", element=\"0.08685525803996952-13\")>, <selenium.webdriver.remote.webelement.WebElement (session=\"7d3b5479e018cc189f87ecbcd080fef6\", element=\"0.08685525803996952-14\")>, <selenium.webdriver.remote.webelement.WebElement (session=\"7d3b5479e018cc189f87ecbcd080fef6\", element=\"0.08685525803996952-15\")>, <selenium.webdriver.remote.webelement.WebElement (session=\"7d3b5479e018cc189f87ecbcd080fef6\", element=\"0.08685525803996952-16\")>, <selenium.webdriver.remote.webelement.WebElement (session=\"7d3b5479e018cc189f87ecbcd080fef6\", element=\"0.08685525803996952-17\")>, <selenium.webdriver.remote.webelement.WebElement (session=\"7d3b5479e018cc189f87ecbcd080fef6\", element=\"0.08685525803996952-18\")>]\n"
     ]
    }
   ],
   "source": [
    "from selenium import webdriver \n",
    "\n",
    "browser = webdriver.Chrome()\n",
    "browser.get('https://www.jd.com/2017')\n",
    "lis = browser.find_elements_by_css_selector('.JS_navCtn li')\n",
    "print(lis)\n",
    "browser.close()\n",
    "\n"
   ]
  },
  {
   "cell_type": "markdown",
   "metadata": {},
   "source": [
    "### 节点交互\n",
    "* send_keys()输入文字\n",
    "* clear()清空文字\n",
    "* click() 点击按钮 \n"
   ]
  },
  {
   "cell_type": "code",
   "execution_count": 4,
   "metadata": {},
   "outputs": [],
   "source": [
    "from selenium import webdriver\n",
    "import time\n",
    "\n",
    "browser = webdriver.Chrome()\n",
    "browser.get('https://www.jd.com/2017')\n",
    "input = browser.find_element_by_id('key')\n",
    "input.send_keys('iphone')\n",
    "time.sleep(1)\n",
    "input.clear()\n",
    "input.send_keys('iPad')\n",
    "button = browser.find_element_by_class_name('button')\n",
    "button.click()\n"
   ]
  },
  {
   "cell_type": "markdown",
   "metadata": {},
   "source": [
    "### 动作链 \n"
   ]
  },
  {
   "cell_type": "code",
   "execution_count": 16,
   "metadata": {},
   "outputs": [],
   "source": [
    "from selenium import webdriver \n",
    "from selenium.webdriver import ActionChains\n",
    "\n",
    "browser = webdriver.Chrome()\n",
    "url = 'http://www.runoob.com/try/try.php?filename=jqueryui-api-droppable'\n",
    "browser.get(url)\n",
    "browser.switch_to.frame('iframeResult')\n",
    "source = browser.find_element_by_css_selector('#draggable')\n",
    "target = browser.find_element_by_css_selector('#droppable')\n",
    "actions = ActionChains(browser)\n",
    "actions.drag_and_drop(source,target)\n",
    "actions.perform()"
   ]
  },
  {
   "cell_type": "markdown",
   "metadata": {},
   "source": [
    "### 执行javascript\n",
    "execute_script()"
   ]
  },
  {
   "cell_type": "code",
   "execution_count": 19,
   "metadata": {},
   "outputs": [],
   "source": [
    "\n",
    "\n",
    "from selenium import webdriver\n",
    "\n",
    "browser = webdriver.Chrome()\n",
    "browser.get('https://zhihu.com/explore')\n",
    "browser.execute_script('window.scrollTo(0,document.body.scrollHeight)')\n",
    "browser.execute_script('alert(\"to bottom\")')"
   ]
  },
  {
   "cell_type": "markdown",
   "metadata": {},
   "source": [
    "### 获取节点信息  \n"
   ]
  },
  {
   "cell_type": "markdown",
   "metadata": {},
   "source": [
    "#### 获取属性 \n",
    "选中节点后使用 get_attribute()\n"
   ]
  },
  {
   "cell_type": "code",
   "execution_count": 3,
   "metadata": {},
   "outputs": [
    {
     "name": "stdout",
     "output_type": "stream",
     "text": [
      "<selenium.webdriver.remote.webelement.WebElement (session=\"d6324010eab63e344225d15e9ad28e62\", element=\"0.783701602531393-1\")>\n",
      "zu-top-link-logo\n"
     ]
    }
   ],
   "source": [
    "from selenium import webdriver\n",
    "from selenium.webdriver import ActionChains \n",
    "\n",
    "browser = webdriver.Chrome()\n",
    "url = 'https://www.zhihu.com/explore'\n",
    "browser.get(url)\n",
    "logo = browser.find_element_by_id('zh-top-link-logo')\n",
    "print(logo)\n",
    "print(logo.get_attribute('class'))"
   ]
  },
  {
   "cell_type": "markdown",
   "metadata": {},
   "source": [
    "#### 获取文本值 \n"
   ]
  },
  {
   "cell_type": "code",
   "execution_count": 5,
   "metadata": {},
   "outputs": [
    {
     "name": "stdout",
     "output_type": "stream",
     "text": [
      "提问\n"
     ]
    }
   ],
   "source": [
    "from selenium import webdriver \n",
    "\n",
    "browser =webdriver.Chrome()\n",
    "url = 'https://www.zhihu.com/explore'\n",
    "browser.get(url)\n",
    "input = browser.find_element_by_class_name('zu-top-add-question')\n",
    "print(input.text)"
   ]
  },
  {
   "cell_type": "markdown",
   "metadata": {},
   "source": [
    "#### 获取id,位置,标签名和大小  \n"
   ]
  },
  {
   "cell_type": "code",
   "execution_count": 6,
   "metadata": {},
   "outputs": [
    {
     "name": "stdout",
     "output_type": "stream",
     "text": [
      "提问\n",
      "0.28052606473724584-1\n",
      "{'x': 685, 'y': 7}\n",
      "button\n",
      "{'height': 32, 'width': 66}\n"
     ]
    }
   ],
   "source": [
    "from selenium import webdriver \n",
    "\n",
    "browser =webdriver.Chrome()\n",
    "url = 'https://www.zhihu.com/explore'\n",
    "browser.get(url)\n",
    "input = browser.find_element_by_class_name('zu-top-add-question')\n",
    "print(input.text)\n",
    "print(input.id)\n",
    "print(input.location)\n",
    "print(input.tag_name)\n",
    "print(input.size)"
   ]
  },
  {
   "cell_type": "markdown",
   "metadata": {},
   "source": [
    "### 切换Frame \n",
    "网页中一种节点叫做iFrame,是子Frame,相当于页面的子页面,selenium 默认在父级Frame里面操作,需要使用switch_to.frame()方法来切换到子Frame  传入参数为子Frame的id或者name 等属性"
   ]
  },
  {
   "cell_type": "code",
   "execution_count": 9,
   "metadata": {},
   "outputs": [
    {
     "name": "stdout",
     "output_type": "stream",
     "text": [
      "no logo\n",
      "<selenium.webdriver.remote.webelement.WebElement (session=\"d7110f3ad80ec4ba804aed13ff284d2c\", element=\"0.828632864825821-2\")>\n",
      "RUNOOB.COM\n"
     ]
    }
   ],
   "source": [
    "import time \n",
    "from selenium import webdriver \n",
    "from selenium.common.exceptions import NoSuchElementException \n",
    "\n",
    "browser = webdriver.Chrome()\n",
    "url='http://www.runoob.com/try/try.php?filename=jqueryui-api-droppable'\n",
    "browser.get(url)\n",
    "browser.switch_to.frame('iframeResult')\n",
    "try:\n",
    "    \n",
    "    logo = browser.find_element_by_class_name('logo')\n",
    "except NoSuchElementException as e:\n",
    "    print('no logo')\n",
    "browser.switch_to.parent_frame()\n",
    "logo = browser.find_element_by_class_name('logo')\n",
    "print(logo)\n",
    "print(logo.text)"
   ]
  },
  {
   "cell_type": "markdown",
   "metadata": {},
   "source": [
    "### 延时等待\n",
    "selenium get()方法会在网页框架加载结束后结束执行,如果页面中有ajax的请求,可能不一定能获取到,所以需要延时等待一定时间"
   ]
  },
  {
   "cell_type": "markdown",
   "metadata": {},
   "source": [
    "#### 隐式等待  \n",
    "使用隐式等待执行测试,如果selenium 没有在dom中找到节点,继续等待,超出规定时间,抛出异常,默认时间是0"
   ]
  },
  {
   "cell_type": "code",
   "execution_count": 12,
   "metadata": {},
   "outputs": [
    {
     "name": "stdout",
     "output_type": "stream",
     "text": [
      "<selenium.webdriver.remote.webelement.WebElement (session=\"2e67a7f7db5e895408843b4b5852fe6a\", element=\"0.44573620602441055-1\")>\n"
     ]
    }
   ],
   "source": [
    "from selenium import webdriver \n",
    "\n",
    "browser = webdriver.Chrome()\n",
    "browser.implicitly_wait(10)\n",
    "browser.get('https://www.zhihu.com/explore')\n",
    "input = browser.find_element_by_class_name('zu-top-add-question')\n",
    "print(input)"
   ]
  },
  {
   "cell_type": "markdown",
   "metadata": {},
   "source": [
    "#### 显示等待\n",
    "from selenium.webdriver.support.ui import WebDriverWait\n"
   ]
  },
  {
   "cell_type": "code",
   "execution_count": null,
   "metadata": {},
   "outputs": [],
   "source": [
    "# example of WebDriverWait\n",
    "from selenium import webdriver\n",
    "from selenium.webdriver.common.by import By\n",
    "from selenium.webdriver.support.ui import WebDriverWait\n",
    "from selenium.webdriver.support import expected_conditions as EC\n",
    "\n",
    "driver = webdriver.Firefox()\n",
    "driver.get(\"http://somedomain/url_that_delays_loading\")\n",
    "try:\n",
    "    # 等待元素加载出现\n",
    "    element = WebDriverWait(driver, 10).until(\n",
    "        EC.presence_of_element_located((By.ID, \"myDynamicElement\"))\n",
    "    )\n",
    "finally:\n",
    "    driver.quit()"
   ]
  },
  {
   "cell_type": "markdown",
   "metadata": {},
   "source": [
    "### 前进和后退\n",
    "back() && forward()"
   ]
  },
  {
   "cell_type": "code",
   "execution_count": 15,
   "metadata": {},
   "outputs": [],
   "source": [
    "import time \n",
    "from selenium import webdriver \n",
    "\n",
    "browser = webdriver.Chrome()\n",
    "browser.get('https://www.baidu.com/')\n",
    "browser.get('https://www.taobao.com/')\n",
    "browser.get('https://www.python.org/')\n",
    "browser.back()\n",
    "time.sleep(1)\n",
    "browser.forward()\n"
   ]
  },
  {
   "cell_type": "markdown",
   "metadata": {},
   "source": [
    "### Cookies \n",
    "获取,添加,删除cookies\n"
   ]
  },
  {
   "cell_type": "code",
   "execution_count": 19,
   "metadata": {},
   "outputs": [
    {
     "name": "stdout",
     "output_type": "stream",
     "text": [
      "[{'domain': '.zhihu.com', 'expiry': 1567453327, 'httpOnly': False, 'name': '__utmz', 'path': '/', 'secure': False, 'value': '51854390.1551685327.1.1.utmcsr=(direct)|utmccn=(direct)|utmcmd=(none)'}, {'domain': '.zhihu.com', 'expiry': 1554277320.714394, 'httpOnly': False, 'name': 'l_cap_id', 'path': '/', 'secure': False, 'value': '\"YWFjNTkzMDdjZTBiNDA4M2JiMThlZWQ5YjVmY2U0YjI=|1551685320|74de652ae3f983c3fb70b27c8b771f75576b8630\"'}, {'domain': 'www.zhihu.com', 'expiry': 1551686220.714022, 'httpOnly': False, 'name': 'tgw_l7_route', 'path': '/', 'secure': False, 'value': '73af20938a97f63d9b695ad561c4c10c'}, {'domain': '.zhihu.com', 'expiry': 1554277320.714341, 'httpOnly': False, 'name': 'cap_id', 'path': '/', 'secure': False, 'value': '\"ZDM0YTM2MGRiY2Q2NGM3Yjg5MjgyOTllM2YzZjYxYzM=|1551685320|5314e598c11c2e1b8aac071fd181228c6181c743\"'}, {'domain': '.zhihu.com', 'expiry': 1614757331, 'httpOnly': False, 'name': '_zap', 'path': '/', 'secure': False, 'value': 'a84d58e3-02fb-4685-99a0-f3e6894c46c3'}, {'domain': '.zhihu.com', 'expiry': 1551687127, 'httpOnly': False, 'name': '__utmb', 'path': '/', 'secure': False, 'value': '51854390.0.10.1551685327'}, {'domain': '.zhihu.com', 'expiry': 1646293320.714157, 'httpOnly': False, 'name': 'q_c1', 'path': '/', 'secure': False, 'value': '1d43d80c996c4cbd9d63cbc9ac3447ed|1551685320000|1551685320000'}, {'domain': '.zhihu.com', 'expiry': 1614757327, 'httpOnly': False, 'name': '__utmv', 'path': '/', 'secure': False, 'value': '51854390.000--|3=entry_date=20190304=1'}, {'domain': '.zhihu.com', 'httpOnly': False, 'name': 'n_c', 'path': '/', 'secure': False, 'value': '1'}, {'domain': '.zhihu.com', 'expiry': 1614757327, 'httpOnly': False, 'name': '__utma', 'path': '/', 'secure': False, 'value': '51854390.619109713.1551685327.1551685327.1551685327.1'}, {'domain': '.zhihu.com', 'httpOnly': False, 'name': '__utmc', 'path': '/', 'secure': False, 'value': '51854390'}, {'domain': '.zhihu.com', 'expiry': 1646293323.607769, 'httpOnly': False, 'name': 'd_c0', 'path': '/', 'secure': False, 'value': '\"AGDkD279EQ-PTuc_nAUVChPZQx45LGCXTa0=|1551685323\"'}, {'domain': '.zhihu.com', 'expiry': 1554277320.714284, 'httpOnly': False, 'name': 'r_cap_id', 'path': '/', 'secure': False, 'value': '\"YzdkODVmYmIyNTFjNDA4Zjg5NDUxZGI5ODUyYmE1ZGM=|1551685320|e285a593b049e8b9ada1d14305b8fa82fb5a8509\"'}, {'domain': 'www.zhihu.com', 'httpOnly': False, 'name': '_xsrf', 'path': '/', 'secure': False, 'value': 'c10acb13aea95d6cee15b1cb869c72c5'}, {'domain': '.zhihu.com', 'httpOnly': False, 'name': 'l_n_c', 'path': '/', 'secure': False, 'value': '1'}]\n",
      "[{'domain': 'www.zhihu.com', 'expiry': 2182405332, 'httpOnly': False, 'name': 'name', 'path': '/', 'secure': True, 'value': 'germey'}, {'domain': '.zhihu.com', 'expiry': 1567453327, 'httpOnly': False, 'name': '__utmz', 'path': '/', 'secure': False, 'value': '51854390.1551685327.1.1.utmcsr=(direct)|utmccn=(direct)|utmcmd=(none)'}, {'domain': '.zhihu.com', 'expiry': 1554277320.714394, 'httpOnly': False, 'name': 'l_cap_id', 'path': '/', 'secure': False, 'value': '\"YWFjNTkzMDdjZTBiNDA4M2JiMThlZWQ5YjVmY2U0YjI=|1551685320|74de652ae3f983c3fb70b27c8b771f75576b8630\"'}, {'domain': 'www.zhihu.com', 'expiry': 1551686220.714022, 'httpOnly': False, 'name': 'tgw_l7_route', 'path': '/', 'secure': False, 'value': '73af20938a97f63d9b695ad561c4c10c'}, {'domain': '.zhihu.com', 'expiry': 1554277320.714341, 'httpOnly': False, 'name': 'cap_id', 'path': '/', 'secure': False, 'value': '\"ZDM0YTM2MGRiY2Q2NGM3Yjg5MjgyOTllM2YzZjYxYzM=|1551685320|5314e598c11c2e1b8aac071fd181228c6181c743\"'}, {'domain': '.zhihu.com', 'expiry': 1614757331, 'httpOnly': False, 'name': '_zap', 'path': '/', 'secure': False, 'value': 'a84d58e3-02fb-4685-99a0-f3e6894c46c3'}, {'domain': '.zhihu.com', 'expiry': 1551687127, 'httpOnly': False, 'name': '__utmb', 'path': '/', 'secure': False, 'value': '51854390.0.10.1551685327'}, {'domain': '.zhihu.com', 'expiry': 1646293320.714157, 'httpOnly': False, 'name': 'q_c1', 'path': '/', 'secure': False, 'value': '1d43d80c996c4cbd9d63cbc9ac3447ed|1551685320000|1551685320000'}, {'domain': '.zhihu.com', 'expiry': 1614757327, 'httpOnly': False, 'name': '__utmv', 'path': '/', 'secure': False, 'value': '51854390.000--|3=entry_date=20190304=1'}, {'domain': '.zhihu.com', 'httpOnly': False, 'name': 'n_c', 'path': '/', 'secure': False, 'value': '1'}, {'domain': '.zhihu.com', 'expiry': 1614757327, 'httpOnly': False, 'name': '__utma', 'path': '/', 'secure': False, 'value': '51854390.619109713.1551685327.1551685327.1551685327.1'}, {'domain': '.zhihu.com', 'httpOnly': False, 'name': '__utmc', 'path': '/', 'secure': False, 'value': '51854390'}, {'domain': '.zhihu.com', 'expiry': 1646293323.607769, 'httpOnly': False, 'name': 'd_c0', 'path': '/', 'secure': False, 'value': '\"AGDkD279EQ-PTuc_nAUVChPZQx45LGCXTa0=|1551685323\"'}, {'domain': '.zhihu.com', 'expiry': 1554277320.714284, 'httpOnly': False, 'name': 'r_cap_id', 'path': '/', 'secure': False, 'value': '\"YzdkODVmYmIyNTFjNDA4Zjg5NDUxZGI5ODUyYmE1ZGM=|1551685320|e285a593b049e8b9ada1d14305b8fa82fb5a8509\"'}, {'domain': 'www.zhihu.com', 'httpOnly': False, 'name': '_xsrf', 'path': '/', 'secure': False, 'value': 'c10acb13aea95d6cee15b1cb869c72c5'}, {'domain': '.zhihu.com', 'httpOnly': False, 'name': 'l_n_c', 'path': '/', 'secure': False, 'value': '1'}]\n",
      "[]\n"
     ]
    }
   ],
   "source": [
    "from selenium import webdriver \n",
    "\n",
    "browser = webdriver.Chrome()\n",
    "browser.get('https://www.zhihu.com/explore')\n",
    "print(browser.get_cookies())\n",
    "browser.add_cookie({'name':'name','domain':'www.zhihu.com','value':'germey'})\n",
    "print(browser.get_cookies())\n",
    "browser.delete_all_cookies()\n",
    "print(browser.get_cookies())"
   ]
  },
  {
   "cell_type": "markdown",
   "metadata": {},
   "source": [
    "### 选项卡管理\n"
   ]
  },
  {
   "cell_type": "code",
   "execution_count": 21,
   "metadata": {},
   "outputs": [
    {
     "name": "stdout",
     "output_type": "stream",
     "text": [
      "['CDwindow-0EB9FC200C6FEA72819FDBF1492D84A9', 'CDwindow-9AF5EE3445307B1166444F4B1E18CAAE']\n"
     ]
    },
    {
     "name": "stderr",
     "output_type": "stream",
     "text": [
      "/usr/local/lib/python3.6/dist-packages/ipykernel_launcher.py:8: DeprecationWarning: use driver.switch_to.window instead\n",
      "  \n",
      "/usr/local/lib/python3.6/dist-packages/ipykernel_launcher.py:11: DeprecationWarning: use driver.switch_to.window instead\n",
      "  # This is added back by InteractiveShellApp.init_path()\n"
     ]
    }
   ],
   "source": [
    "import time\n",
    "from selenium import webdriver \n",
    "\n",
    "browser = webdriver.Chrome()\n",
    "browser.get('https://www.baidu.com')\n",
    "browser.execute_script('window.open()')\n",
    "print(browser.window_handles)\n",
    "browser.switch_to_window(browser.window_handles[1])\n",
    "browser.get('https://www.taobao.com')\n",
    "time.sleep(1)\n",
    "browser.switch_to_window(browser.window_handles[0])\n",
    "browser.get('https://python.org')"
   ]
  },
  {
   "cell_type": "code",
   "execution_count": null,
   "metadata": {},
   "outputs": [],
   "source": [
    "### 异常处理 \n",
    "这里我们使用 try except 来捕获各类异常 。 比如,我们对 find_element_by_id () 查找节点的方法\n",
    "捕获 NoSuchElementException 异常,这样一旦出现这样的错误,就进行异常处理,程序也不会 中断 了"
   ]
  }
 ],
 "metadata": {
  "gist": {
   "data": {
    "description": "桌面/python_spider/code/动态渲染页面爬取.ipynb",
    "public": false
   },
   "id": ""
  },
  "kernelspec": {
   "display_name": "Python 3",
   "language": "python",
   "name": "python3"
  },
  "language_info": {
   "codemirror_mode": {
    "name": "ipython",
    "version": 3
   },
   "file_extension": ".py",
   "mimetype": "text/x-python",
   "name": "python",
   "nbconvert_exporter": "python",
   "pygments_lexer": "ipython3",
   "version": "3.6.7"
  }
 },
 "nbformat": 4,
 "nbformat_minor": 2
}
