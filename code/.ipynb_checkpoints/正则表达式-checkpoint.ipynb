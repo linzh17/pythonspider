{
 "cells": [
  {
   "cell_type": "markdown",
   "metadata": {},
   "source": [
    "# 正则表达式小记"
   ]
  },
  {
   "cell_type": "markdown",
   "metadata": {},
   "source": [
    "## re "
   ]
  },
  {
   "cell_type": "markdown",
   "metadata": {},
   "source": [
    "### match()  \n",
    "> 传入要匹配的字符串和正则表达式,匹配成功则返回结果,不成功返回None  \n",
    "> group() 输出匹配到的内容  \n",
    "> span() 输出匹配的范围 匹配到的结果字符串在原字符中的位置范围  \n",
    "> () 括号可以将想要提取的子字符串括起来,实际记录了一个子表达式的开始和结束位置,被标记的每个子字符串表达式会依次对应每一个分组,调用group()传入索引可以获取提取的结果\n",
    "> 修饰符 ,用于选择一些匹配的模式  \n",
    "* re.S 使.匹配包括行在内的所有字符  \n",
    "* re.I 使匹配对大小写不敏感  \n"
   ]
  },
  {
   "cell_type": "code",
   "execution_count": 27,
   "metadata": {},
   "outputs": [
    {
     "name": "stdout",
     "output_type": "stream",
     "text": [
      "41\n",
      "<_sre.SRE_Match object; span=(0, 25), match='hello 123 4567 World_this'>\n",
      "hello 123 4567 World_this\n",
      "(0, 25)\n",
      "<_sre.SRE_Match object; span=(0, 19), match='hello 1234567 World'>\n",
      "hello 1234567 World\n",
      "1234567\n",
      "hello 1234567 World\n",
      "(0, 19)\n",
      "<_sre.SRE_Match object; span=(0, 41), match='hello 123 4567 World_this is a Regex Demo'>\n",
      "hello 123 4567 World_this is a Regex Demo\n",
      "(0, 41)\n",
      "<_sre.SRE_Match object; span=(0, 40), match='hello 1234567 World_This is a Regex Demo'>\n",
      "7\n",
      "<_sre.SRE_Match object; span=(0, 40), match='hello 1234567 World_This is a Regex Demo'>\n",
      "1234567\n",
      "result \n",
      "result kEraCN\n",
      "1234567\n",
      "<_sre.SRE_Match object; span=(0, 17), match='(百度)www.baidu.com'>\n"
     ]
    }
   ],
   "source": [
    "import re \n",
    "#example1\n",
    "content = 'hello 123 4567 World_this is a Regex Demo'\n",
    "print(len(content))\n",
    "result = re.match('^hello\\s\\d\\d\\d\\s\\d{4}\\s\\w{10}',content)\n",
    "print(result)\n",
    "print(result.group())\n",
    "print(result.span())\n",
    "\n",
    "#example2 子字符串提取例子\n",
    "content =  'hello 1234567 World_This is a Regex Demo'\n",
    "result =  re.match('^hello\\s(\\d+)\\sWorld',content)\n",
    "print(result)\n",
    "print(result.group())\n",
    "#提取分组\n",
    "print(result.group(1))\n",
    "print(result.group())\n",
    "print(result.span())\n",
    "\n",
    "#example3 通用匹配\n",
    "content = 'hello 123 4567 World_this is a Regex Demo'\n",
    "result = re.match('^hello.*Demo$',content)\n",
    "print(result)\n",
    "print(result.group())\n",
    "print(result.span())\n",
    "\n",
    "#example 贪婪和非贪婪 \n",
    "#贪婪\n",
    "content =  'hello 1234567 World_This is a Regex Demo'\n",
    "# .* 会尽可能的匹配多的字符串,所以123456被作为字符串匹配,只留下一个满足结果的数字7\n",
    "result = re.match('^he.*(\\d+).*Demo$',content)\n",
    "print(result)\n",
    "#结果为1个7\n",
    "print(result.group(1))\n",
    "\n",
    "#非贪婪\n",
    "#.*? 在匹配到1234567前,就会停止匹配\n",
    "content =  'hello 1234567 World_This is a Regex Demo'\n",
    "result = re.match('^he.*?(\\d+).*?Demo$',content)\n",
    "print(result)\n",
    "print(result.group(1))\n",
    "\n",
    "#.*? 在结尾时 有可能匹配不到任何内容\n",
    "content = 'http://weibo.com/comment/kEraCN'\n",
    "result = re.match('http.*?comment/(.*?)',content)\n",
    "result2 = re.match('http.*?comment/(.*)',content)\n",
    "print('result',result.group(1))\n",
    "print('result',result2.group(1))\n",
    "\n",
    "#修饰符\n",
    "content = '''hello 1234567 world_this\n",
    "is a regex demo'''\n",
    "\n",
    "result = re.match('^he.*?(\\d+).*?demo$',content,re.S)\n",
    "print(result.group(1))\n",
    "\n",
    "#转义匹配\n",
    "\n",
    "content = '(百度)www.baidu.com'\n",
    "result = re.match('\\(百度\\)www\\.baidu\\.com',content)\n",
    "print(result)"
   ]
  },
  {
   "cell_type": "markdown",
   "metadata": {},
   "source": [
    "### ssearch()\n",
    "> match() 是从字符串的开头开始匹配的,一旦开头不匹配,整个匹配失败\n",
    "> search() 匹配时会扫描整个字符串,search()依次扫描字符串,返回第一个符合规则的字符串,没有则返回None"
   ]
  },
  {
   "cell_type": "code",
   "execution_count": 31,
   "metadata": {},
   "outputs": [
    {
     "name": "stdout",
     "output_type": "stream",
     "text": [
      "None\n",
      "<_sre.SRE_Match object; span=(13, 53), match='hello 1234567 world_this is a regex demo'>\n"
     ]
    }
   ],
   "source": [
    "import re \n",
    "\n",
    "#match()无法匹配\n",
    "content = 'Extra stings hello 1234567 world_this is a regex demo extra stings'\n",
    "result = re.match('hello.*?(\\d+).*?demo',content)\n",
    "print(result)\n",
    "\n",
    "#search()匹配结果\n",
    "result = re.search('hello.*?(\\d+).*?demo',content)\n",
    "print(result)"
   ]
  },
  {
   "cell_type": "markdown",
   "metadata": {},
   "source": [
    "### findall()\n",
    "> 与search()作用相同,但是findall() 会返回所有满足条件的结果"
   ]
  },
  {
   "cell_type": "markdown",
   "metadata": {},
   "source": [
    "### sub()\n",
    "> 修改文本  \n",
    "> 第一个参数匹配要修改的内容,第二个参数修改替换的内容,第三个参数要被修改的字符串  \n"
   ]
  },
  {
   "cell_type": "code",
   "execution_count": 33,
   "metadata": {},
   "outputs": [
    {
     "name": "stdout",
     "output_type": "stream",
     "text": [
      "adffdannvdf\n"
     ]
    }
   ],
   "source": [
    "import re \n",
    "\n",
    "content = 'adf0fda334n342nvdf0'\n",
    "content = re.sub('\\d+','',content)\n",
    "print(content)"
   ]
  },
  {
   "cell_type": "markdown",
   "metadata": {},
   "source": [
    "### compile()\n",
    "> 将正则字符串编译成正则表达式对象  "
   ]
  },
  {
   "cell_type": "code",
   "execution_count": 34,
   "metadata": {},
   "outputs": [
    {
     "name": "stdout",
     "output_type": "stream",
     "text": [
      "2016-12-15  2016-12-17 \n"
     ]
    }
   ],
   "source": [
    "import re \n",
    "\n",
    "content1 = '2016-12-15 12:00'\n",
    "content2 = '2016-12-17 12:55'\n",
    "\n",
    "pattern = re.compile('\\d{2}:\\d{2}')\n",
    "result1 = re.sub(pattern,'',content1)\n",
    "result2 = re.sub(pattern,'',content2)\n",
    "print(result1,result2)"
   ]
  }
 ],
 "metadata": {
  "kernelspec": {
   "display_name": "Python 3",
   "language": "python",
   "name": "python3"
  },
  "language_info": {
   "codemirror_mode": {
    "name": "ipython",
    "version": 3
   },
   "file_extension": ".py",
   "mimetype": "text/x-python",
   "name": "python",
   "nbconvert_exporter": "python",
   "pygments_lexer": "ipython3",
   "version": "3.6.7"
  }
 },
 "nbformat": 4,
 "nbformat_minor": 2
}
