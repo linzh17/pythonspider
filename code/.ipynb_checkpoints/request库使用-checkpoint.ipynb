{
 "cells": [
  {
   "cell_type": "markdown",
   "metadata": {},
   "source": [
    "# requests 库的使用"
   ]
  },
  {
   "cell_type": "markdown",
   "metadata": {},
   "source": [
    "## resquests.get()\n",
    "> 与urllib中urlopen()方法类似 "
   ]
  },
  {
   "cell_type": "code",
   "execution_count": null,
   "metadata": {},
   "outputs": [],
   "source": [
    "import requests\n",
    "\n",
    "r = requests.get('http://www.baidu.com/')\n",
    "print(type(r))\n",
    "print(r.status_code)\n",
    "print(type(r.text))\n",
    "print(r.text)\n",
    "print(r.cookies)"
   ]
  },
  {
   "cell_type": "code",
   "execution_count": null,
   "metadata": {},
   "outputs": [],
   "source": [
    "import requests\n",
    "\n",
    "#添加参数,构建字典传给params\n",
    "data = {\n",
    "    'name':'germey',\n",
    "    'age':22\n",
    "}\n",
    "r = requests.get('http://httpbin.org/get',params=data)\n",
    "print(r.text)"
   ]
  },
  {
   "cell_type": "markdown",
   "metadata": {},
   "source": [
    "> 上述例子网页返回结果为str类型,是json格式,如果想直接解析返回结果,得到一个字典格式,可以调用json()  \n",
    "> 如果返回的不是json格式,便会出现解析错误,抛出json.decoder.JSONDecodeError异常\n"
   ]
  },
  {
   "cell_type": "code",
   "execution_count": null,
   "metadata": {},
   "outputs": [],
   "source": [
    "import requests\n",
    "\n",
    "r = requests.get('http://httpbin.org/get')\n",
    "print(type(r))\n",
    "print(r.json())\n",
    "print(type(r.json()))"
   ]
  },
  {
   "cell_type": "code",
   "execution_count": null,
   "metadata": {},
   "outputs": [],
   "source": [
    "#抓取网页\n",
    "\n",
    "import requests\n",
    "import re\n",
    "\n",
    "headers  = {\n",
    "    'user-agent': 'Mozilla/5.0 (X11; Linux x86_64) AppleWebKit/537.36 (KHTML, like Gecko) Chrome/69.0.3497.100 Safari/537.36'\n",
    "}\n",
    "\n",
    "r = requests.get('https://www.zhihu.com/explore',headers=headers)\n",
    "pattern  = re.compile('explore-feed.*?question_link.*?>(.*?)</a>',re.S)\n",
    "titles = re.findall(pattern,r.text)\n",
    "print(titles)"
   ]
  },
  {
   "cell_type": "markdown",
   "metadata": {},
   "source": [
    "> 抓取二进制数据 上述例子抓取的是网页 ,返回的时html文档,而抓取图片,音频,视频等二进制文件  \n"
   ]
  },
  {
   "cell_type": "code",
   "execution_count": null,
   "metadata": {},
   "outputs": [],
   "source": [
    "import requests \n",
    "\n",
    "r = requests.get('https://github.com/favicon.ico')\n",
    "#print(r.text) #会出现乱码 原因 图片直接转化为字符串\n",
    "#print(r.content)\n",
    "\n",
    "with open('favicon.ico','wb') as f:\n",
    "    f.write(r.content)"
   ]
  },
  {
   "cell_type": "markdown",
   "metadata": {},
   "source": [
    "> 有的网站,不添加headers,不能正常请求,需要添加headers 例如知乎"
   ]
  },
  {
   "cell_type": "code",
   "execution_count": null,
   "metadata": {},
   "outputs": [],
   "source": [
    "import requests\n",
    "\n",
    "r= requests.get('https://www.zhihu.com/explore')#获取网页内容失败\n",
    "print(r.text)\n",
    "\n",
    "headers  = {\n",
    "    'user-agent': 'Mozilla/5.0 (X11; Linux x86_64) AppleWebKit/537.36 (KHTML, like Gecko) Chrome/69.0.3497.100 Safari/537.36'\n",
    "}\n",
    "\n",
    "r= requests.get('https://www.zhihu.com/explore',headers=headers)#添加headers 获取成功\n",
    "print(r.text)\n",
    "\n"
   ]
  },
  {
   "cell_type": "markdown",
   "metadata": {},
   "source": [
    "## Post 请求"
   ]
  },
  {
   "cell_type": "code",
   "execution_count": null,
   "metadata": {},
   "outputs": [],
   "source": [
    "import requests\n",
    "\n",
    "data = {\n",
    "    'name':'germey',\n",
    "    'age':22\n",
    "}\n",
    "\n",
    "r = requests.post('https://httpbin.org/post',data=data)\n",
    "print(r.text)"
   ]
  },
  {
   "cell_type": "markdown",
   "metadata": {},
   "source": [
    "## 响应\n",
    "> 响应的几个属性"
   ]
  },
  {
   "cell_type": "code",
   "execution_count": null,
   "metadata": {},
   "outputs": [],
   "source": [
    "import requests\n",
    "\n",
    "r = requests.get('https://www.jianshu.com')\n",
    "print(type(r.status_code),r.status_code)\n",
    "print(type(r.headers),r.headers)\n",
    "print(type(r.cookies),r.cookies)\n",
    "print(type(r.url),r.url)\n",
    "print(type(r.history),r.history)#请求历史"
   ]
  },
  {
   "cell_type": "code",
   "execution_count": null,
   "metadata": {},
   "outputs": [],
   "source": [
    "import requests\n",
    "\n",
    "r = requests.get('https://httpbin.org/get')\n",
    "if not r.status_code ==requests.codes.ok:\n",
    "    exit() \n",
    "else:\n",
    "    print('Requests Ok')"
   ]
  },
  {
   "cell_type": "markdown",
   "metadata": {},
   "source": [
    "## 文件上传 "
   ]
  },
  {
   "cell_type": "code",
   "execution_count": null,
   "metadata": {},
   "outputs": [],
   "source": [
    "import requests\n",
    "\n",
    "files = {\n",
    "    'file':open('favicon.ico','rb')\n",
    "}\n",
    "\n",
    "r = requests.post('https://httpbin.org/post',files=files)\n",
    "print(r.text)"
   ]
  },
  {
   "cell_type": "markdown",
   "metadata": {},
   "source": [
    "## Cookies "
   ]
  },
  {
   "cell_type": "code",
   "execution_count": null,
   "metadata": {},
   "outputs": [],
   "source": [
    "import requests\n",
    "\n",
    "r = requests.get('https://www.baidu.com')\n",
    "print(r.cookies)\n",
    "\n",
    "for key,value in r.cookies.items():\n",
    "    print(key+'='+value)"
   ]
  },
  {
   "cell_type": "code",
   "execution_count": null,
   "metadata": {},
   "outputs": [],
   "source": [
    "import requests\n",
    "\n",
    "headers ={\n",
    "    'Cookie':'_zap=bfd22326-b760-4a38-af8d-5e4b966ef33d; d_c0=\"AMBlBTOpKA6PTpJCN264C8SN83faeNivSL8=|1536026877\"; q_c1=75c01ebad41f4963a0ff0fed77bc32f2|1536026879000|1536026879000; _xsrf=35057f5c-9080-4778-892d-72804a824386; tgw_l7_route=80f350dcd7c650b07bd7b485fcab5bf7; capsion_ticket=\"2|1:0|10:1548565476|14:capsion_ticket|44:NGZiYmY4N2Q2ZjQ3NDU5Yzg2ZDNjOGM2MjhhYmQzN2Q=|468cfc7493bde3756af2ec3f0e275d78d949243592a88d73e72edaa231612beb\"; l_n_c=1; r_cap_id=\"MjllZmY1ZjJmOTA0NGZkMmIzNTUzYjY4Njg3NWYxNzA=|1548565481|bd452bcb6d36e53c433d6a5531edb2a0e21284a3\"; cap_id=\"ODNlNTliNWQ2ZDY1NGUwYjk3ZDY1ZjFmN2I5N2I0Mzg=|1548565481|e11007ff394d15d1ab339ebba460ec19c882146d\"; l_cap_id=\"ZTY5Y2RkYzFjOGY0NGNkMWEwNWVlMTEyZTIxZmMzYjg=|1548565481|bdc580685b7c526cc6538a0008cb80dedb6d4f5e\"; n_c=1; z_c0=Mi4xY2ZsOEJBQUFBQUFBd0dVRk02a29EaGNBQUFCaEFsVk4tWWs2WFFDbm8tZXVmcEFVVXU5enUtWjZkM1ZLNFUtdWNB|1548565497|f3872984f62e4753236db0b385097cdd00603e99; tst=r',\n",
    "    'Host':'www.zhihu.com',\n",
    "    'User-Agent':'Mozilla/5.0 (X11; Linux x86_64) AppleWebKit/537.36 (KHTML, like Gecko) Chrome/69.0.3497.100 Safari/537.36'\n",
    "}\n",
    "\n",
    "r = requests.get('https://www.zhihu.com',headers=headers)\n",
    "print(r.text)"
   ]
  },
  {
   "cell_type": "markdown",
   "metadata": {},
   "source": [
    ">  通过cookies 参数设置的方法 需要构造RequestsCookieJar对象,需要分割cookies  \n"
   ]
  },
  {
   "cell_type": "code",
   "execution_count": null,
   "metadata": {},
   "outputs": [],
   "source": [
    "import requests\n",
    "\n",
    "cookies = '_zap=bfd22326-b760-4a38-af8d-5e4b966ef33d; d_c0=\"AMBlBTOpKA6PTpJCN264C8SN83faeNivSL8=|1536026877\"; q_c1=75c01ebad41f4963a0ff0fed77bc32f2|1536026879000|1536026879000; _xsrf=35057f5c-9080-4778-892d-72804a824386; tgw_l7_route=80f350dcd7c650b07bd7b485fcab5bf7; capsion_ticket=\"2|1:0|10:1548565476|14:capsion_ticket|44:NGZiYmY4N2Q2ZjQ3NDU5Yzg2ZDNjOGM2MjhhYmQzN2Q=|468cfc7493bde3756af2ec3f0e275d78d949243592a88d73e72edaa231612beb\"; l_n_c=1; r_cap_id=\"MjllZmY1ZjJmOTA0NGZkMmIzNTUzYjY4Njg3NWYxNzA=|1548565481|bd452bcb6d36e53c433d6a5531edb2a0e21284a3\"; cap_id=\"ODNlNTliNWQ2ZDY1NGUwYjk3ZDY1ZjFmN2I5N2I0Mzg=|1548565481|e11007ff394d15d1ab339ebba460ec19c882146d\"; l_cap_id=\"ZTY5Y2RkYzFjOGY0NGNkMWEwNWVlMTEyZTIxZmMzYjg=|1548565481|bdc580685b7c526cc6538a0008cb80dedb6d4f5e\"; n_c=1; z_c0=Mi4xY2ZsOEJBQUFBQUFBd0dVRk02a29EaGNBQUFCaEFsVk4tWWs2WFFDbm8tZXVmcEFVVXU5enUtWjZkM1ZLNFUtdWNB|1548565497|f3872984f62e4753236db0b385097cdd00603e99; tst=r'\n",
    "\n",
    "jar = requests.cookies.RequestsCookieJar()\n",
    "headers = {\n",
    "    'Host':'www.zhihu.com',\n",
    "    'User-Agent':'Mozilla/5.0 (X11; Linux x86_64) AppleWebKit/537.36 (KHTML, like Gecko) Chrome/69.0.3497.100 Safari/537.36'\n",
    "}\n",
    "\n",
    "for cookie in cookies.split(';'):\n",
    "    key,value =  cookie.split('=',1)\n",
    "    jar.set(key,value)\n",
    "\n",
    "r = requests.get('https://www.zhihu.com',cookies=jar,headers=headers)\n",
    "print(r.text)"
   ]
  },
  {
   "cell_type": "markdown",
   "metadata": {},
   "source": [
    "## 会话维持\n",
    "> 维持同一个会话 使用同一个session 对象"
   ]
  },
  {
   "cell_type": "code",
   "execution_count": null,
   "metadata": {},
   "outputs": [],
   "source": [
    "import requests \n",
    "\n",
    "s = requests.Session()\n",
    "s.get('http://httpbin.org/cookies/set/number/123456789')\n",
    "r = s.get('http://httpbin.org/cookies')\n",
    "print(r.text)"
   ]
  },
  {
   "cell_type": "markdown",
   "metadata": {},
   "source": [
    "## SSL 证书验证\n",
    "> requests 提供证书验证的功能,由verify参数控制是否检查证书,默认为True 自动验证\n"
   ]
  },
  {
   "cell_type": "code",
   "execution_count": null,
   "metadata": {},
   "outputs": [],
   "source": [
    "# example verify = True \n",
    "\n",
    "import requests \n",
    "\n",
    "response =  requests.get('https://www.12306.cn')\n",
    "print(response.status_code)"
   ]
  },
  {
   "cell_type": "code",
   "execution_count": null,
   "metadata": {},
   "outputs": [],
   "source": [
    "import requests\n",
    "\n",
    "#设置为False,输出结果 会有警告 提示指定证书\n",
    "response = requests.get('https://www.12306.cn',verify=False)\n",
    "print(response.status_code)\n",
    "\n",
    "#指定本地证书用作客户端证书,本地私有证书的key必须是解密状态\n",
    "#response = requests.get('https://www.12306.cn',cert=('path/server.crt','/path/key'))"
   ]
  },
  {
   "cell_type": "code",
   "execution_count": null,
   "metadata": {},
   "outputs": [],
   "source": []
  }
 ],
 "metadata": {
  "kernelspec": {
   "display_name": "Python 3",
   "language": "python",
   "name": "python3"
  },
  "language_info": {
   "codemirror_mode": {
    "name": "ipython",
    "version": 3
   },
   "file_extension": ".py",
   "mimetype": "text/x-python",
   "name": "python",
   "nbconvert_exporter": "python",
   "pygments_lexer": "ipython3",
   "version": "3.6.7"
  }
 },
 "nbformat": 4,
 "nbformat_minor": 2
}
