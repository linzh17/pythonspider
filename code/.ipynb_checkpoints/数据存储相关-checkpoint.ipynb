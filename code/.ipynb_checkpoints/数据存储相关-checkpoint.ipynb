{
 "cells": [
  {
   "cell_type": "markdown",
   "metadata": {},
   "source": [
    "# 数据存储相关工具"
   ]
  },
  {
   "cell_type": "markdown",
   "metadata": {},
   "source": [
    "## 文件存储  \n"
   ]
  },
  {
   "cell_type": "markdown",
   "metadata": {},
   "source": [
    "### txt文本存储  \n",
    "```\n",
    "open(file, mode='r', buffering=-1, encoding=None, errors=None, newline=None, closefd=True, opener=None)\n",
    "```\n",
    "<ul>\n",
    "<li>file: 必需，文件路径（相对或者绝对路径）。</li>\n",
    "<li>mode: 可选，文件打开模式</li>\n",
    "<li>buffering: 设置缓冲</li>\n",
    "<li>encoding: 一般使用utf8</li>\n",
    "<li>errors: 报错级别</li>\n",
    "<li>newline: 区分换行符</li>\n",
    "<li>closefd: 传入的file参数类型</li>\n",
    "<li>opener:</li>\n",
    "</ul>\n",
    "\n",
    "\n",
    "<table class=\"reference\">\n",
    "<tbody><tr><th style=\"width:10%\">模式</th><th>描述</th></tr>\n",
    "<tr><td>t</td><td>文本模式 (默认)。</td></tr>\n",
    "<tr><td>x</td><td>写模式，新建一个文件，如果该文件已存在则会报错。</td></tr>\n",
    "<tr><td>b</td><td>二进制模式。</td></tr>\n",
    "<tr><td>+</td><td>打开一个文件进行更新(可读可写)。</td></tr>\n",
    "<tr><td>U</td><td>通用换行模式（不推荐）。</td></tr>\n",
    "<tr><td>r</td><td>以只读方式打开文件。文件的指针将会放在文件的开头。这是默认模式。</td></tr>\n",
    "<tr><td>rb</td><td>以二进制格式打开一个文件用于只读。文件指针将会放在文件的开头。这是默认模式。一般用于非文本文件如图片等。</td></tr>\n",
    "<tr><td>r+</td><td>打开一个文件用于读写。文件指针将会放在文件的开头。</td></tr>\n",
    "<tr><td>rb+</td><td>以二进制格式打开一个文件用于读写。文件指针将会放在文件的开头。一般用于非文本文件如图片等。</td></tr>\n",
    "<tr><td>w</td><td>打开一个文件只用于写入。如果该文件已存在则打开文件，并从开头开始编辑，即原有内容会被删除。如果该文件不存在，创建新文件。</td></tr>\n",
    "<tr><td>wb</td><td>以二进制格式打开一个文件只用于写入。如果该文件已存在则打开文件，并从开头开始编辑，即原有内容会被删除。如果该文件不存在，创建新文件。一般用于非文本文件如图片等。</td></tr>\n",
    "<tr><td>w+</td><td>打开一个文件用于读写。如果该文件已存在则打开文件，并从开头开始编辑，即原有内容会被删除。如果该文件不存在，创建新文件。</td></tr> \n",
    "<tr><td>wb+</td><td>以二进制格式打开一个文件用于读写。如果该文件已存在则打开文件，并从开头开始编辑，即原有内容会被删除。如果该文件不存在，创建新文件。一般用于非文本文件如图片等。</td></tr>\n",
    "\n",
    "\n",
    "<tr><td>a</td><td>打开一个文件用于追加。如果该文件已存在，文件指针将会放在文件的结尾。也就是说，新的内容将会被写入到已有内容之后。如果该文件不存在，创建新文件进行写入。</td></tr> \n",
    "<tr><td>ab</td><td>以二进制格式打开一个文件用于追加。如果该文件已存在，文件指针将会放在文件的结尾。也就是说，新的内容将会被写入到已有内容之后。如果该文件不存在，创建新文件进行写入。</td></tr> \n",
    "<tr><td>a+</td><td>打开一个文件用于读写。如果该文件已存在，文件指针将会放在文件的结尾。文件打开时会是追加模式。如果该文件不存在，创建新文件用于读写。</td></tr> \n",
    "<tr><td>ab+</td><td>以二进制格式打开一个文件用于追加。如果该文件已存在，文件指针将会放在文件的结尾。如果该文件不存在，创建新文件用于读写。</td></tr>\n",
    "\n",
    "</tbody></table>\n",
    "\n"
   ]
  },
  {
   "cell_type": "code",
   "execution_count": 11,
   "metadata": {},
   "outputs": [],
   "source": [
    "#example 1\n",
    "import requests \n",
    "from  pyquery import PyQuery as pq\n",
    "\n",
    "proxies = {\n",
    "    'http':'socks5://127.0.0.1:1080',\n",
    "    'https':'socks5://127.0.0.1:1080'\n",
    "}\n",
    "\n",
    "url  = 'https://www.zhihu.com/explore' \n",
    "headers = {\n",
    "    \n",
    "    'User-Agent':'Mozilla/5.0 (X11; Linux x86_64) AppleWebKit/537.36 (KHTML, like Gecko) Chrome/70.0.3538.77 Safari/537.36'\n",
    "}\n",
    "html = requests.get(url,headers=headers,proxies=proxies).text\n",
    "doc = pq(html)  \n",
    "\n",
    "items = doc('.explore-tab .explore-feed ').items()\n",
    "for item in items:\n",
    "    #print(item)\n",
    "    question = item.find('h2').text()\n",
    "    author = item.find('.author-link').text()\n",
    "    answer = pq(item.find('.content').html()).text()\n",
    "    # 参数a表示以追加的形式写入文件\n",
    "    file = open('zhihu-explore.txt','a',encoding='utf-8')\n",
    "    file.write('\\n'.join([question,author,answer]))\n",
    "    file.write('\\n' + '=' * 50 + '\\n')\n",
    "    #关闭文件对象\n",
    "    file.close()\n",
    "    \n",
    "    # 文件读写部分 等价写法 不需要调用closes()\n",
    "    with open('zhihu-explore.txt','a',encoding='utf-8'):\n",
    "        file.write('\\n'.join([question,author,answer]))\n",
    "        file.write('\\n' + '=' * 50 + '\\n')"
   ]
  },
  {
   "cell_type": "markdown",
   "metadata": {},
   "source": [
    "## json 文件存储  \n"
   ]
  },
  {
   "cell_type": "code",
   "execution_count": 1,
   "metadata": {},
   "outputs": [
    {
     "data": {
      "text/plain": [
       "[{}]"
      ]
     },
     "execution_count": 1,
     "metadata": {},
     "output_type": "execute_result"
    }
   ],
   "source": [
    "# example of json \n",
    "[\n",
    "    {\n",
    "    \"name\":\"Bob\",\n",
    "    \"gender\":\"male\",\n",
    "    \"birthday\":\"1992-10-18\"\n",
    "    },\n",
    "    {\n",
    "     \"name\":\"Selina\",\n",
    "    \"gender\":\"female\",\n",
    "    \"birthday\":\"1995-10-18\"   \n",
    "    }\n",
    "]"
   ]
  },
  {
   "cell_type": "markdown",
   "metadata": {},
   "source": [
    "### 读取json  \n",
    "> json 库中的loads()将json文本字符串转化为json对象,可以通过dumps()将json 对象转为文本字符串  \n"
   ]
  },
  {
   "cell_type": "code",
   "execution_count": 13,
   "metadata": {},
   "outputs": [
    {
     "name": "stdout",
     "output_type": "stream",
     "text": [
      "<class 'str'>\n",
      "<class 'list'>\n",
      "[{'name': 'Bob', 'gender': 'male', 'birthday': '1992-10-18'}, {'name': 'Selina', 'gender': 'female', 'birthday': '1995-10-18'}]\n"
     ]
    }
   ],
   "source": [
    "# example \n",
    "import json \n",
    "\n",
    "# 注意 json 中必须用双引号 不然loads解析方法会失败\n",
    "str='''\n",
    "[{\n",
    "    \"name\":\"Bob\",\n",
    "    \"gender\":\"male\",\n",
    "    \"birthday\":\"1992-10-18\"\n",
    "},{\n",
    "     \"name\":\"Selina\",\n",
    "    \"gender\":\"female\",\n",
    "    \"birthday\":\"1995-10-18\"   \n",
    "}]\n",
    "'''\n",
    "\n",
    "print(type(str))\n",
    "data = json.loads(str)\n",
    "print(type(data))\n",
    "print(data)"
   ]
  },
  {
   "cell_type": "markdown",
   "metadata": {},
   "source": [
    "get() 传入键名,若键值存在返回 ,不存在 返回None ;还可以传入第二个参数为默认值,在键不存在时 生效"
   ]
  },
  {
   "cell_type": "code",
   "execution_count": 16,
   "metadata": {},
   "outputs": [
    {
     "name": "stdout",
     "output_type": "stream",
     "text": [
      "Bob\n",
      "Bob\n",
      "None\n",
      "25\n"
     ]
    }
   ],
   "source": [
    "# 索引获取json中的信息\n",
    "# 以下两个方法作用相同\n",
    "print(data[0]['name'])\n",
    "print(data[0].get('name'))\n",
    "\n",
    "print(data[0].get('age'))\n",
    "print(data[0].get('age',25))"
   ]
  },
  {
   "cell_type": "markdown",
   "metadata": {},
   "source": [
    "### 文本读取"
   ]
  },
  {
   "cell_type": "code",
   "execution_count": 19,
   "metadata": {},
   "outputs": [
    {
     "name": "stdout",
     "output_type": "stream",
     "text": [
      "[{'name': 'Bob', 'gender': 'male', 'birthday': '1992-10-18'}, {'name': 'Selina', 'gender': 'female', 'birthday': '1995-10-18'}]\n"
     ]
    }
   ],
   "source": [
    "import json \n",
    " \n",
    "with open('test.json','r') as file:\n",
    "    str = file.read()\n",
    "    data = json.loads(str)\n",
    "    print(data)"
   ]
  },
  {
   "cell_type": "markdown",
   "metadata": {},
   "source": [
    "### 输出json  \n",
    "dumps() 将json 对象转化为字符串  \n",
    "dumps() 第一个参数为json 对象 ,ident参数决定缩进字符个数,默认无缩进"
   ]
  },
  {
   "cell_type": "code",
   "execution_count": 28,
   "metadata": {},
   "outputs": [],
   "source": [
    "import json \n",
    "\n",
    "data = [{\n",
    "    \"name\":\"Bob\",\n",
    "    \"gender\":\"male\",\n",
    "    \"birthday\":\"1992-10-18\"\n",
    "},{\n",
    "     \"name\":\"Selina\",\n",
    "    \"gender\":\"female\",\n",
    "    \"birthday\":\"1995-10-18\"   \n",
    "}]\n",
    "\n",
    "# encoding = 'utf-8' 使中文字符正常显示和写入\n",
    "with open('test.json','a',encoding='utf-8') as file:\n",
    "    file.write(json.dumps(data))\n",
    "    file.write('\\n'+'-'*50+'无缩进'+'-'*50)\n",
    "    file.write(json.dumps(data,indent=2))"
   ]
  },
  {
   "cell_type": "markdown",
   "metadata": {},
   "source": [
    "##  CSV 文件存储 \n",
    "> csv 特定字符分隔的纯文本   \n",
    "writer() 初始化对象传入打开的文件句柄  \n",
    "调用writerow()传入每行的数据"
   ]
  },
  {
   "cell_type": "code",
   "execution_count": 31,
   "metadata": {},
   "outputs": [],
   "source": [
    "# example \n",
    "\n",
    "import csv \n",
    "\n",
    "with open('data.csv','w') as csvfile:\n",
    "    writer = csv.writer(csvfile)\n",
    "    writer.writerow(['id','name','age'])\n",
    "    writer.writerow(['1001','mike','20'])\n",
    "    writer.writerow(['1002','bob','22'])\n",
    "    writer.writerow(['1003','jorden','21'])"
   ]
  },
  {
   "cell_type": "markdown",
   "metadata": {},
   "source": [
    "### 修改列与列的分隔符 "
   ]
  },
  {
   "cell_type": "code",
   "execution_count": 33,
   "metadata": {},
   "outputs": [],
   "source": [
    "import csv \n",
    "\n",
    "#传入delimiter参数 \n",
    "with open('data.csv','a') as csvfile:\n",
    "    # 将分隔符改为空格\n",
    "    writer = csv.writer(csvfile,delimiter=' ')\n",
    "    writer.writerow(['id','name','age'])\n",
    "    writer.writerow(['1001','mike','20'])\n",
    "    writer.writerow(['1002','bob','22'])\n",
    "    writer.writerow(['1003','jorden','21'])\n",
    "    "
   ]
  },
  {
   "cell_type": "markdown",
   "metadata": {},
   "source": [
    "#### 同时写入多行　\n",
    "writerows() 传入二维列表"
   ]
  },
  {
   "cell_type": "code",
   "execution_count": 37,
   "metadata": {},
   "outputs": [],
   "source": [
    "import csv \n",
    "\n",
    "#传入delimiter参数 \n",
    "with open('data.csv','a') as csvfile:\n",
    "    # 将分隔符改为|\n",
    "    writer = csv.writer(csvfile,delimiter='|')\n",
    "    writer.writerow(['id','name','age'])\n",
    "    writer.writerows([['1001','mike','20'],['1002','bob','22'],['1003','jorden','21']])\n",
    "\n",
    "    "
   ]
  },
  {
   "cell_type": "markdown",
   "metadata": {},
   "source": [
    "#### 字典数据写入csv\n",
    "\n",
    "定义fieldnames 字段名 传入csv,DictWriter初始化  \n",
    "csv.DictWriter()初始化字典写入对象  \n",
    "writeheader() 写入头信息  \n",
    "writerow() 写入相应字典数据 "
   ]
  },
  {
   "cell_type": "code",
   "execution_count": 42,
   "metadata": {},
   "outputs": [],
   "source": [
    "import csv \n",
    "\n",
    "with open('data.csv','a') as csvfile:\n",
    "    fieldnames = ['id','name','age']\n",
    "    writer = csv.DictWriter(csvfile,fieldnames=fieldnames)\n",
    "    writer.writeheader()\n",
    "    writer.writerow({'id':'1001','name':'mike','age':'20'})\n",
    "    writer.writerow({'id':'1002','name':'bob','age':'22'})\n",
    "    writer.writerow({'id':'1003','name':'jorden','age':'21'})\n",
    "    \n"
   ]
  },
  {
   "cell_type": "markdown",
   "metadata": {},
   "source": [
    "#### csv 文件读取 "
   ]
  },
  {
   "cell_type": "code",
   "execution_count": 43,
   "metadata": {},
   "outputs": [
    {
     "name": "stdout",
     "output_type": "stream",
     "text": [
      "['id', 'name', 'age']\n",
      "['1001', 'mike', '20']\n",
      "['1002', 'bob', '22']\n",
      "['1003', 'jorden', '21']\n",
      "['id name age']\n",
      "['1001 mike 20']\n",
      "['1002 bob 22']\n",
      "['1003 jorden 21']\n",
      "['id name age']\n",
      "['1001 mike 20']\n",
      "['1002 bob 22']\n",
      "['1003 jorden 21']\n",
      "['id|name|age']\n",
      "['1001|mike|20']\n",
      "['1002|bob|22']\n",
      "['1003|jorden|21']\n",
      "['id|name|age']\n",
      "['1001|mike|20']\n",
      "['1002|bob|22']\n",
      "['1003|jorden|21']\n",
      "['id', 'name', 'age']\n",
      "['1001', 'mike', '20']\n",
      "['1002', 'bob', '22']\n",
      "['1003', 'jorden', '21']\n",
      "['id', 'name', 'age']\n",
      "['1001', 'mike', '20']\n",
      "['1002', 'bob', '22']\n",
      "['1003', 'jorden', '21']\n"
     ]
    }
   ],
   "source": [
    "import csv \n",
    "\n",
    "with open('data.csv','r') as csvfile:\n",
    "    reader = csv.reader(csvfile)\n",
    "    for row in reader:\n",
    "        print(row)"
   ]
  }
 ],
 "metadata": {
  "kernelspec": {
   "display_name": "Python 3",
   "language": "python",
   "name": "python3"
  },
  "language_info": {
   "codemirror_mode": {
    "name": "ipython",
    "version": 3
   },
   "file_extension": ".py",
   "mimetype": "text/x-python",
   "name": "python",
   "nbconvert_exporter": "python",
   "pygments_lexer": "ipython3",
   "version": "3.6.7"
  }
 },
 "nbformat": 4,
 "nbformat_minor": 2
}
