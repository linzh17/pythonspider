{
 "cells": [
  {
   "cell_type": "markdown",
   "metadata": {},
   "source": [
    "# urllib 库的使用"
   ]
  },
  {
   "cell_type": "markdown",
   "metadata": {},
   "source": [
    "## urlopen函数"
   ]
  },
  {
   "cell_type": "markdown",
   "metadata": {},
   "source": [
    "urllib.request.urlopen(url, data=None, [timeout, ]*, cafile=None, capath=None, cadefault=False, context=None)\n",
    "可以实现网页的请求"
   ]
  },
  {
   "cell_type": "code",
   "execution_count": null,
   "metadata": {},
   "outputs": [],
   "source": [
    "import urllib.request\n",
    "\n",
    "response = urllib.request.urlopen('http://www.baidu.com')\n",
    "print(response.read().decode('utf-8')) ## read函数获取响应体的内容\n"
   ]
  },
  {
   "cell_type": "markdown",
   "metadata": {},
   "source": [
    "### data参数\n",
    "> data参数常用于post请求   \n",
    "> data 需要为bytes类型  \n",
    "> urllib.parse.urlencode() data参数编码为bytes类型  \n",
    "> httpbin 为http请求测试网站   \n",
    "> "
   ]
  },
  {
   "cell_type": "code",
   "execution_count": null,
   "metadata": {},
   "outputs": [],
   "source": [
    "import urllib.parse\n",
    "import urllib.request\n",
    "\n",
    "data=bytes(urllib.parse.urlencode({'word':'hello'}),encoding='utf-8')\n",
    "response=urllib.request.urlopen('http://httpbin.org/post',data=data)\n",
    "print(response.read())"
   ]
  },
  {
   "cell_type": "markdown",
   "metadata": {},
   "source": [
    "### timeout 参数\n",
    "\n",
    "> 设置超时时间  \n"
   ]
  },
  {
   "cell_type": "code",
   "execution_count": null,
   "metadata": {},
   "outputs": [],
   "source": [
    "import urllib.request\n",
    "\n",
    "response = urllib.request.urlopen('http://httpbin.org/get',timeout=1)\n",
    "print(response.read())\n"
   ]
  },
  {
   "cell_type": "code",
   "execution_count": null,
   "metadata": {},
   "outputs": [],
   "source": [
    "import socket\n",
    "import urllib.request\n",
    "import urllib.error\n",
    "\n",
    "try:\n",
    "    response=urllib.request.urlopen('http://httpbin.org/get',timeout=0.1)\n",
    "except urllib.error.URLError as e:\n",
    "    if isinstance(e.reason,socket.timeout):\n",
    "        print('time out')\n",
    "    "
   ]
  },
  {
   "cell_type": "markdown",
   "metadata": {},
   "source": [
    "## 响应"
   ]
  },
  {
   "cell_type": "markdown",
   "metadata": {},
   "source": [
    "### 响应类型"
   ]
  },
  {
   "cell_type": "code",
   "execution_count": null,
   "metadata": {},
   "outputs": [],
   "source": [
    "import urllib.request\n",
    "\n",
    "response = urllib.request.urlopen('https://www.python.org')\n",
    "print(type(response))"
   ]
  },
  {
   "cell_type": "markdown",
   "metadata": {},
   "source": [
    "### 响应头 状态码"
   ]
  },
  {
   "cell_type": "code",
   "execution_count": null,
   "metadata": {},
   "outputs": [],
   "source": [
    "import urllib.request\n",
    "\n",
    "response = urllib.request.urlopen('http://httpbin.org')\n",
    "print(response.status)\n",
    "print(response.getheaders())        #获取响应头\n",
    "print(response.getheader('Server')) #获取指定的响应头"
   ]
  },
  {
   "cell_type": "markdown",
   "metadata": {},
   "source": [
    "### 响应体"
   ]
  },
  {
   "cell_type": "code",
   "execution_count": null,
   "metadata": {},
   "outputs": [],
   "source": [
    "import urllib.request\n",
    "\n",
    "response = urllib.request.urlopen('http://www.baidu.com')\n",
    "print(response.read().decode('utf-8')) ## read函数获取响应体的内容\n"
   ]
  },
  {
   "cell_type": "markdown",
   "metadata": {},
   "source": [
    "## request\n",
    "> 可以补充更多请求信息例如headers ,而urlopen()内没有这种参数选项   \n",
    "```class urllib.request.Request（url，data = None，headers = {}，origin_req_host = None，unverifiable = False，method = None ）```  \n"
   ]
  },
  {
   "cell_type": "markdown",
   "metadata": {},
   "source": [
    "### 基本使用"
   ]
  },
  {
   "cell_type": "code",
   "execution_count": null,
   "metadata": {},
   "outputs": [],
   "source": [
    "import urllib.request\n",
    "\n",
    "request = urllib.request.Request('http://www.baidu.com')\n",
    "reponse = urllib.request.urlopen(request)\n",
    "print(reponse.read().decode('utf-8'))"
   ]
  },
  {
   "cell_type": "markdown",
   "metadata": {},
   "source": [
    "### 请求中加入 headers"
   ]
  },
  {
   "cell_type": "code",
   "execution_count": null,
   "metadata": {},
   "outputs": [],
   "source": [
    "from urllib import request,parse\n",
    "\n",
    "url = 'http://httpbin.org/post'\n",
    "headers={\n",
    "    'User-Agent':' Mozilla/5.0 (X11; Linux x86_64) AppleWebKit/537.36 (KHTML, like Gecko) Chrome/69.0.3497.100 Safari/537.36',\n",
    "    'Host':' httpbin.org',\n",
    "}\n",
    "dict={\n",
    "    'name':'Gar'\n",
    "}\n",
    "data = bytes(urllib.parse.urlencode(dict),encoding='utf8')\n",
    "req=urllib.request.Request(url=url,data=data,headers=headers,method='POST')\n",
    "response = urllib.request.urlopen(req)\n",
    "print(response.read().decode('utf-8'))"
   ]
  },
  {
   "cell_type": "markdown",
   "metadata": {},
   "source": [
    "### 另外的加入header的方法\n",
    "> request.add_header(key,value)  \n",
    "> 可以用循环多次调用这个函数加入响应头"
   ]
  },
  {
   "cell_type": "code",
   "execution_count": null,
   "metadata": {},
   "outputs": [],
   "source": [
    "from urllib import request,parse\n",
    "\n",
    "url = 'http://httpbin.org/post'\n",
    "dict={\n",
    "    'name':'Gar'\n",
    "}\n",
    "data = bytes(urllib.parse.urlencode(dict),encoding='utf8')\n",
    "req=urllib.request.Request(url=url,data=data,method='POST')\n",
    "req.add_header('User-Agent',' Mozilla/5.0 (X11; Linux x86_64)')\n",
    "response = urllib.request.urlopen(req)\n",
    "print(response.read().decode('utf-8'))"
   ]
  },
  {
   "cell_type": "markdown",
   "metadata": {},
   "source": [
    "## Handler"
   ]
  },
  {
   "cell_type": "markdown",
   "metadata": {},
   "source": [
    "### 代理\n",
    "    urllib.request.ProxyHandler(proxies = None )  \n",
    "    用于ip伪装\n"
   ]
  },
  {
   "cell_type": "markdown",
   "metadata": {},
   "source": [
    "##### http代理"
   ]
  },
  {
   "cell_type": "code",
   "execution_count": null,
   "metadata": {},
   "outputs": [],
   "source": [
    "from urllib.error import URLError\n",
    "from urllib.request import ProxyHandler, build_opener\n",
    "\n",
    "proxy = 'username:password@127.0.0.1:9743'\n",
    "proxy_handler = ProxyHandler({\n",
    "    'http': 'http://' + proxy,\n",
    "    'https': 'https://' + proxy\n",
    "})\n",
    "opener = build_opener(proxy_handler)\n",
    "try:\n",
    "    response = opener.open('http://httpbin.org/get')\n",
    "    print(response.read().decode('utf-8'))\n",
    "except URLError as e:\n",
    "    print(e.reason)"
   ]
  },
  {
   "cell_type": "markdown",
   "metadata": {},
   "source": [
    "##### socks5代理"
   ]
  },
  {
   "cell_type": "code",
   "execution_count": null,
   "metadata": {},
   "outputs": [],
   "source": [
    "import socks # 需要安装PySocks 模块\n",
    "import socket\n",
    "from urllib import request\n",
    "\n",
    "socks.set_default_proxy(socks.SOCKS5,'127.0.0.1',1080)\n",
    "socket.socket = socks.socksocket\n",
    "\n",
    "response  = request.urlopen('http://httpbin.org/get')\n",
    "print(response.read())"
   ]
  },
  {
   "cell_type": "markdown",
   "metadata": {},
   "source": [
    "### Cookie\n",
    "\n",
    "``` class urllib.request.HTTPCookieProcessor（cookiejar = None) ```"
   ]
  },
  {
   "cell_type": "code",
   "execution_count": null,
   "metadata": {},
   "outputs": [],
   "source": [
    "import http.cookiejar\n",
    "import urllib.request\n",
    "\n",
    "cookie = http.cookiejar.CookieJar()\n",
    "handler = urllib.request.HTTPCookieProcessor(cookie)\n",
    "opener = urllib.request.build_opener(handler)\n",
    "response = opener.open('http://www.baidu.com')\n",
    "for item in cookie:\n",
    "    print(item.name+'='+item.value)"
   ]
  },
  {
   "cell_type": "markdown",
   "metadata": {},
   "source": [
    "#### cookie 保存 两种方式"
   ]
  },
  {
   "cell_type": "markdown",
   "metadata": {},
   "source": [
    "```class http.cookiejar.MozillaCookieJar(filename, delayload=None, policy=None)```"
   ]
  },
  {
   "cell_type": "code",
   "execution_count": null,
   "metadata": {},
   "outputs": [],
   "source": [
    "import http.cookiejar\n",
    "import urllib.request\n",
    "\n",
    "filename='cookie.txt' # 文件存储在当前目录下\n",
    "cookie = http.cookiejar.MozillaCookieJar(filename)\n",
    "handler = urllib.request.HTTPCookieProcessor(cookie)\n",
    "opener = urllib.request.build_opener(handler)\n",
    "response = opener.open('http://www.baidu.com')\n",
    "##FileCookieJar.save(filename=None, ignore_discard=False, ignore_expires=False)\n",
    "cookie.save(filename=filename,ignore_discard=True, ignore_expires=True)\n"
   ]
  },
  {
   "cell_type": "markdown",
   "metadata": {},
   "source": [
    "```class http.cookiejar.LWPCookieJar(filename, delayload=None, policy=None)\n",
    "```"
   ]
  },
  {
   "cell_type": "code",
   "execution_count": null,
   "metadata": {},
   "outputs": [],
   "source": [
    "import http.cookiejar\n",
    "import urllib.request\n",
    "\n",
    "filename='cookie.txt' # 文件存储在当前目录下\n",
    "cookie = http.cookiejar.LWPCookieJar(filename)\n",
    "handler = urllib.request.HTTPCookieProcessor(cookie)\n",
    "opener = urllib.request.build_opener(handler)\n",
    "response = opener.open('http://www.baidu.com')\n",
    "##FileCookieJar.save(filename=None, ignore_discard=False, ignore_expires=False)\n",
    "cookie.save(filename=filename,ignore_discard=True, ignore_expires=True)\n"
   ]
  },
  {
   "cell_type": "markdown",
   "metadata": {},
   "source": [
    "#### cookie文件导入\n",
    "```FileCookieJar.load(filename=None, ignore_discard=False, ignore_expires=False)```"
   ]
  },
  {
   "cell_type": "code",
   "execution_count": null,
   "metadata": {},
   "outputs": [],
   "source": [
    "import http.cookiejar\n",
    "import urllib.request\n",
    "\n",
    "cookie = http.cookiejar.LWPCookieJar()\n",
    "cookie.load('cookie.txt',ignore_discard=True, ignore_expires=True)\n",
    "handler = urllib.request.HTTPCookieProcessor(cookie)\n",
    "opener = urllib.request.build_opener(handler)\n",
    "response = opener.open('http://www.baidu.com')\n",
    "print(response.read().decode('utf-8'))\n"
   ]
  },
  {
   "cell_type": "markdown",
   "metadata": {},
   "source": [
    "## 异常处理"
   ]
  },
  {
   "cell_type": "markdown",
   "metadata": {},
   "source": [
    "### URLError\n",
    "> 来自error模块 继承自OSError类,error异常模块的基类,request产生的异常可以通过捕获这个类来处理"
   ]
  },
  {
   "cell_type": "code",
   "execution_count": 76,
   "metadata": {},
   "outputs": [
    {
     "name": "stdout",
     "output_type": "stream",
     "text": [
      "NOT FOUND\n"
     ]
    }
   ],
   "source": [
    "# 简单的例子,打开一个不存在的页面,捕获URLError 避免程序异常终止\n",
    "from urllib import request,error\n",
    "\n",
    "try:\n",
    "    response = request.urlopen('http://123.com/index.html')\n",
    "except error.URLError as e:\n",
    "    print('NOT FOUND')"
   ]
  },
  {
   "cell_type": "markdown",
   "metadata": {},
   "source": [
    "### HTTPError\n",
    "> URLError 的子类 专门处理HTTP的请求错误 例如认证错误  \n",
    "> 有三个属性  \n",
    ">code:返回HTTP 状态码 404...  \n",
    ">reason:返回错误原因  \n",
    ">headers:返回请求头  \n"
   ]
  },
  {
   "cell_type": "code",
   "execution_count": 5,
   "metadata": {},
   "outputs": [
    {
     "name": "stdout",
     "output_type": "stream",
     "text": [
      "Not Found\n",
      "404\n",
      "Content-Length: 1308\n",
      "Content-Type: text/html\n",
      "Server: Microsoft-IIS/6.0\n",
      "X-Powered-By: ASP.NET\n",
      "Date: Sat, 26 Jan 2019 09:19:21 GMT\n",
      "Connection: close\n",
      "\n",
      "\n"
     ]
    }
   ],
   "source": [
    "from urllib import request\n",
    "from urllib import error\n",
    "try:\n",
    "    response = request.urlopen('http://123.com/index.html')\n",
    "except error.HTTPError as e:\n",
    "    print(e.reason,e.code,e.headers,sep='\\n')"
   ]
  },
  {
   "cell_type": "code",
   "execution_count": 8,
   "metadata": {},
   "outputs": [
    {
     "name": "stdout",
     "output_type": "stream",
     "text": [
      "404\n",
      "Not Found\n"
     ]
    }
   ],
   "source": [
    "# URLError是HTTPError 的父类,程序先捕获子类在捕获父类的错误\n",
    "\n",
    "from urllib import request,error\n",
    "\n",
    "try:\n",
    "    response = request.urlopen('http://123.com/index.html')\n",
    "except error.HTTPError as e:\n",
    "    print(e.code,e.reason,sep='\\n')\n",
    "except error.URLError as e:\n",
    "    print(e.reason)\n",
    "else:\n",
    "    print('ok')"
   ]
  },
  {
   "cell_type": "code",
   "execution_count": 12,
   "metadata": {},
   "outputs": [
    {
     "name": "stdout",
     "output_type": "stream",
     "text": [
      "<class 'socket.timeout'>\n",
      "time out\n"
     ]
    }
   ],
   "source": [
    "# reason 属性返回不是字符串,是对象\n",
    "\n",
    "from urllib import request,error\n",
    "import socket\n",
    "\n",
    "try:\n",
    "    response = request.urlopen('https://www.baidu.com',timeout=0.01)\n",
    "except error.URLError as e:\n",
    "    print(type(e.reason))\n",
    "    if isinstance(e.reason,socket.timeout):\n",
    "        print('time out')"
   ]
  },
  {
   "cell_type": "markdown",
   "metadata": {},
   "source": [
    "## 解析链接  \n",
    "> urllib parse模块   \n",
    "> 实现URL的抽取,合并,链接转换\n"
   ]
  },
  {
   "cell_type": "markdown",
   "metadata": {},
   "source": [
    "### urlparse  \n",
    "```urllib.parse.urlparse(urlstring, scheme='', allow_fragments=True)```\n",
    "> 实现URL的识别和分段  \n",
    "> 按照链接的一个格式 scheme://netloc/path;params?query#fragment 来进行拆分  \n",
    "> 大致为六部分  \n",
    ">scheme:协议  \n",
    ">netloc:域名  \n",
    ">path:访问路径  \n",
    ">params:参数  \n",
    ">query: 查询条件  \n",
    ">fragment:锚点  \n",
    "\n",
    "* urlstring 必填 解析的URL  \n",
    "* scheme 默认的协议 在URL 不包含scheme信息的时候生效,若URL包含scheme信息则返回该信息  \n",
    "* allow_fragments 是否忽略fragment,为false时忽略,会被解析为path,parameters,query的一部分,fragment部分为空\n"
   ]
  },
  {
   "cell_type": "code",
   "execution_count": 15,
   "metadata": {},
   "outputs": [
    {
     "name": "stdout",
     "output_type": "stream",
     "text": [
      "<class 'urllib.parse.ParseResult'> ParseResult(scheme='http', netloc='www.baidu.com', path='/index.html', params='user', query='id=5', fragment='comment')\n"
     ]
    }
   ],
   "source": [
    "from urllib.parse import urlparse\n",
    "\n",
    "# 返回结果为ParseRequest类型对象,包含上述六部分\n",
    "result = urlparse('http://www.baidu.com/index.html;user?id=5#comment')\n",
    "print(type(result),result)"
   ]
  },
  {
   "cell_type": "markdown",
   "metadata": {},
   "source": [
    "#### allow_fragments=False 例子"
   ]
  },
  {
   "cell_type": "code",
   "execution_count": 16,
   "metadata": {},
   "outputs": [
    {
     "name": "stdout",
     "output_type": "stream",
     "text": [
      "ParseResult(scheme='http', netloc='www.baidu.com', path='/index.html', params='user', query='id=5#comment', fragment='')\n"
     ]
    }
   ],
   "source": [
    "#example 1 fragment部分解析到query中\n",
    "from urllib.parse import urlparse\n",
    "\n",
    "result = urlparse('http://www.baidu.com/index.html;user?id=5#comment',allow_fragments=False)\n",
    "print(result)"
   ]
  },
  {
   "cell_type": "code",
   "execution_count": 17,
   "metadata": {},
   "outputs": [
    {
     "name": "stdout",
     "output_type": "stream",
     "text": [
      "ParseResult(scheme='http', netloc='www.baidu.com', path='/index.html#comment', params='', query='', fragment='')\n"
     ]
    }
   ],
   "source": [
    "#example 2 fragment部分解析到path中\n",
    "from urllib.parse import urlparse\n",
    "\n",
    "result = urlparse('http://www.baidu.com/index.html#comment',allow_fragments=False)\n",
    "print(result)"
   ]
  },
  {
   "cell_type": "code",
   "execution_count": 20,
   "metadata": {},
   "outputs": [
    {
     "name": "stdout",
     "output_type": "stream",
     "text": [
      "http\n",
      "http\n"
     ]
    }
   ],
   "source": [
    "#example 2 fragment部分解析到path中\n",
    "from urllib.parse import urlparse\n",
    "\n",
    "result = urlparse('http://www.baidu.com/index.html#comment',allow_fragments=False)\n",
    "print(result.scheme,result[0],sep='\\n')\n",
    "# ParseRequest 实际上为元祖,可以利用索引顺序进行获取或者属性名获取"
   ]
  },
  {
   "cell_type": "markdown",
   "metadata": {},
   "source": [
    "### urlunparse"
   ]
  },
  {
   "cell_type": "code",
   "execution_count": 21,
   "metadata": {},
   "outputs": [
    {
     "name": "stdout",
     "output_type": "stream",
     "text": [
      "http://www.baidu.com/index.html;user?a=6#comment\n"
     ]
    }
   ],
   "source": [
    "from urllib.parse import urlunparse\n",
    "\n",
    "data=['http','www.baidu.com','index.html','user','a=6','comment']\n",
    "print(urlunparse(data))"
   ]
  },
  {
   "cell_type": "markdown",
   "metadata": {},
   "source": [
    "### urlsplit \n",
    "> 与urlparse类似 不再单独解析params 这一部分,params合并到path中  \n"
   ]
  },
  {
   "cell_type": "code",
   "execution_count": 22,
   "metadata": {},
   "outputs": [
    {
     "name": "stdout",
     "output_type": "stream",
     "text": [
      "SplitResult(scheme='http', netloc='www.baidu.com', path='/index.html', query='', fragment='comment')\n"
     ]
    }
   ],
   "source": [
    "from urllib.parse import urlsplit\n",
    "\n",
    "result = urlsplit('http://www.baidu.com/index.html#comment')\n",
    "print(result)#SplitResult为元组类型"
   ]
  },
  {
   "cell_type": "markdown",
   "metadata": {},
   "source": [
    "### urlunsplit\n"
   ]
  },
  {
   "cell_type": "code",
   "execution_count": 24,
   "metadata": {},
   "outputs": [
    {
     "name": "stdout",
     "output_type": "stream",
     "text": [
      "http://www.baidu.com/index.html?a=6#comment\n"
     ]
    }
   ],
   "source": [
    "from urllib.parse import urlunsplit\n",
    "\n",
    "data=['http','www.baidu.com','index.html','a=6','comment']\n",
    "print(urlunsplit(data))"
   ]
  },
  {
   "cell_type": "markdown",
   "metadata": {},
   "source": [
    "### urljoin\n",
    "```urllib.parse.urljoin(base, url, allow_fragments=True)```\n",
    "* base 提供base_url 该方法会分析base_url 的scheme,netloc,path的内容,对url部分进行补充 \n",
    "* url 新链接 base用于补充url部分中上述提到三部分缺失部分"
   ]
  },
  {
   "cell_type": "code",
   "execution_count": 34,
   "metadata": {},
   "outputs": [
    {
     "name": "stdout",
     "output_type": "stream",
     "text": [
      "http://www.baidu.com/FAQ.html\n",
      "https://cuiqingcai.com/FAQ.html\n",
      "https://cuiqingcai.com/FAQ.html\n",
      "https://cuiqingcai.com/FAQ.html?question=2\n",
      "https://cuiqingcai.com/FAQ.html\n",
      "www.baidu.com/index.html\n"
     ]
    }
   ],
   "source": [
    "from urllib.parse import urljoin\n",
    "\n",
    "print(urljoin('http://www.baidu.com','FAQ.html'))\n",
    "print(urljoin('http://www.baidu.com','https://cuiqingcai.com/FAQ.html'))\n",
    "print(urljoin('http://www.baidu.com/FAQ.html','https://cuiqingcai.com/FAQ.html'))\n",
    "print(urljoin('http://www.baidu.com/FAQ.html','https://cuiqingcai.com/FAQ.html?question=2'))\n",
    "print(urljoin('http://www.baidu.com/FAQ.html?wd=abc','https://cuiqingcai.com/FAQ.html'))\n",
    "print(urljoin('www.baidu.com/','index.html'))"
   ]
  },
  {
   "cell_type": "markdown",
   "metadata": {},
   "source": [
    "### urlencode \n",
    "> 常用于构建参数  序列化\n"
   ]
  },
  {
   "cell_type": "code",
   "execution_count": 35,
   "metadata": {},
   "outputs": [
    {
     "name": "stdout",
     "output_type": "stream",
     "text": [
      "https://www.baidu.com?name=germey&age=22\n"
     ]
    }
   ],
   "source": [
    "from urllib.parse import urlencode \n",
    "\n",
    "params = {\n",
    "    'name':'germey',\n",
    "    'age':22\n",
    "}\n",
    "base_url = 'https://www.baidu.com?'\n",
    "url = base_url + urlencode(params)\n",
    "print(url)"
   ]
  },
  {
   "cell_type": "markdown",
   "metadata": {},
   "source": [
    "### parse_qs()&&parse_qsl() 反序列化"
   ]
  },
  {
   "cell_type": "code",
   "execution_count": 36,
   "metadata": {},
   "outputs": [
    {
     "name": "stdout",
     "output_type": "stream",
     "text": [
      "{'name': ['germey'], 'age': ['22']}\n"
     ]
    }
   ],
   "source": [
    "#parse_qs 反序列成字典类型 \n",
    "from urllib.parse import parse_qs\n",
    "\n",
    "query = 'name=germey&age=22'\n",
    "print(parse_qs(query))"
   ]
  },
  {
   "cell_type": "code",
   "execution_count": 38,
   "metadata": {},
   "outputs": [
    {
     "name": "stdout",
     "output_type": "stream",
     "text": [
      "[('name', 'germey'), ('age', '22')]\n"
     ]
    }
   ],
   "source": [
    "#parse_qsl 反序列化成元组类型\n",
    "\n",
    "from urllib.parse import parse_qsl\n",
    "\n",
    "query = 'name=germey&age=22'\n",
    "print(parse_qsl(query))"
   ]
  },
  {
   "cell_type": "markdown",
   "metadata": {},
   "source": [
    "### quote&&unquote\n",
    "* quote 可以将中文参数转化为url编码\n",
    "* unquote url 解码"
   ]
  },
  {
   "cell_type": "code",
   "execution_count": 42,
   "metadata": {},
   "outputs": [
    {
     "name": "stdout",
     "output_type": "stream",
     "text": [
      "https://www.baidu.com/?wd=%E4%B8%AD%E6%96%87\n",
      "https://www.baidu.com/?wd=中文\n"
     ]
    }
   ],
   "source": [
    "from urllib.parse import quote,unquote\n",
    "\n",
    "url = 'https://www.baidu.com/?wd='+quote('中文')\n",
    "print(url)\n",
    "\n",
    "url = 'https://www.baidu.com/?wd=%E4%B8%AD%E6%96%87'\n",
    "print(unquote(url))"
   ]
  }
 ],
 "metadata": {
  "kernelspec": {
   "display_name": "Python 3",
   "language": "python",
   "name": "python3"
  },
  "language_info": {
   "codemirror_mode": {
    "name": "ipython",
    "version": 3
   },
   "file_extension": ".py",
   "mimetype": "text/x-python",
   "name": "python",
   "nbconvert_exporter": "python",
   "pygments_lexer": "ipython3",
   "version": "3.6.7"
  }
 },
 "nbformat": 4,
 "nbformat_minor": 2
}
